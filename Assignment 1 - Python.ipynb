{
 "cells": [
  {
   "cell_type": "markdown",
   "metadata": {},
   "source": [
    "# Assignment 1\n",
    "In this first assignment, we'll get used to using Jupyter while writing some basic code in Python. Jupyter is a virtual notebook that allows us to run samples of Python code. Each sample of code is called a cell. "
   ]
  },
  {
   "cell_type": "markdown",
   "metadata": {},
   "source": [
    "**Task 1:** In this first cell, try writing a print function that says \"Hello World!\" Once you've written the code, run the cell by going to the top of the notebook and clicking on the \"Run\" button at the top of the page.\n",
    "\n",
    "\n",
    "If you did it right, you should see the message \"Hello World!\" below the code cell!"
   ]
  },
  {
   "cell_type": "code",
   "execution_count": null,
   "metadata": {},
   "outputs": [],
   "source": []
  },
  {
   "cell_type": "markdown",
   "metadata": {},
   "source": [
    "**Task 2:** You are a worker at a license plate factory. It is your job to figure out how wide a new, custom designed license plate should be. The license plate says \"CODELYF\". If each letter on the license plate is 2 inches wide, about how wide would the license plate be after it's printed? **Hint:** Use the *len* function. "
   ]
  },
  {
   "cell_type": "code",
   "execution_count": null,
   "metadata": {},
   "outputs": [],
   "source": []
  },
  {
   "cell_type": "markdown",
   "metadata": {},
   "source": [
    "To submit this assignment, take a screenshot of the notebook with *completed* code."
   ]
  },
  {
   "cell_type": "code",
   "execution_count": null,
   "metadata": {},
   "outputs": [],
   "source": []
  }
 ],
 "metadata": {
  "kernelspec": {
   "display_name": "Python 3",
   "language": "python",
   "name": "python3"
  },
  "language_info": {
   "codemirror_mode": {
    "name": "ipython",
    "version": 3
   },
   "file_extension": ".py",
   "mimetype": "text/x-python",
   "name": "python",
   "nbconvert_exporter": "python",
   "pygments_lexer": "ipython3",
   "version": "3.6.6"
  }
 },
 "nbformat": 4,
 "nbformat_minor": 1
}
